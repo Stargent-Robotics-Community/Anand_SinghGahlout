{
 "cells": [
  {
   "cell_type": "code",
   "execution_count": 1,
   "id": "50dc7256",
   "metadata": {},
   "outputs": [
    {
     "name": "stdout",
     "output_type": "stream",
     "text": [
      "MY FAVOURITE TVSHOWS LIST IS :\n",
      "twin peak\n",
      "friends\n",
      "30 rock\n",
      "mad men\n",
      "MY FAVOURITE MOVIES LIST IS :\n",
      "avengers\n",
      "daedpool\n",
      "inception\n",
      "men in black\n"
     ]
    }
   ],
   "source": [
    "#1. Create a list of your favourite tv shows and movies. After creating the list of at least 4items, iterate over the whole list and print it's elements.\n",
    "\n",
    "tvshows=[\"twin peak\",\"friends\",\"30 rock\",\"mad men\"]\n",
    "movies=[\"avengers\",\"daedpool\",\"inception\",\"men in black\"]\n",
    "print(\"MY FAVOURITE TVSHOWS LIST IS :\")\n",
    "for i in tvshows:\n",
    "    print(i)  \n",
    "print(\"MY FAVOURITE MOVIES LIST IS :\")\n",
    "for i in movies:\n",
    "    print(i)\n"
   ]
  },
  {
   "cell_type": "code",
   "execution_count": 2,
   "id": "88bcf41f",
   "metadata": {},
   "outputs": [
    {
     "name": "stdout",
     "output_type": "stream",
     "text": [
      "enter 1st of favourite tv show : happy days\n",
      "enter 2nd of favourite tv show : castle\n",
      "['twin peak', 'friends', '30 rock', 'mad men', 'happy days', 'castle']\n"
     ]
    }
   ],
   "source": [
    "#2. Now ask the user to enter 2 of his favourite tv shows. Take that as input and then use the append() function to add those inputs into the list.\n",
    "\n",
    "n1=input(\"enter 1st of favourite tv show : \")\n",
    "n2=input(\"enter 2nd of favourite tv show : \")\n",
    "tvshows.append(n1)\n",
    "tvshows.append(n2)\n",
    "print(tvshows)\n"
   ]
  },
  {
   "cell_type": "code",
   "execution_count": 3,
   "id": "28d335d1",
   "metadata": {},
   "outputs": [
    {
     "name": "stdout",
     "output_type": "stream",
     "text": [
      "[2, 8, 5, 3, 0]\n"
     ]
    }
   ],
   "source": [
    "#3. Use slicing to print every 2nd element from the list starting from the second element.\n",
    "\n",
    "lst=[4,2,6,8,1,5,7,3,9,0]\n",
    "print(lst[1::2])\n"
   ]
  },
  {
   "cell_type": "code",
   "execution_count": 5,
   "id": "1bcded94",
   "metadata": {},
   "outputs": [
    {
     "name": "stdout",
     "output_type": "stream",
     "text": [
      "80\n"
     ]
    }
   ],
   "source": [
    "#4. Create a list of 5 integers and use a while loop to calculate their sum.\n",
    "\n",
    "a=[20,10,15,30,5]\n",
    "i=0\n",
    "sum= 0\n",
    "while i<len(a):\n",
    "    sum=sum+a[i]\n",
    "    i+=1\n",
    "print(sum)"
   ]
  },
  {
   "cell_type": "code",
   "execution_count": 6,
   "id": "7e7369e9",
   "metadata": {},
   "outputs": [
    {
     "name": "stdout",
     "output_type": "stream",
     "text": [
      "Enter number of rows : 5\n",
      "1\n",
      "12\n",
      "123\n",
      "1234\n",
      "12345\n"
     ]
    }
   ],
   "source": [
    "#5. Print the following pattern using a loop:\n",
    "\n",
    "n=int(input(\"Enter number of rows : \"))\n",
    "for i in range(1,n+1):\n",
    "    for j in range(1,i+1):\n",
    "        print(j,end=\"\")\n",
    "    print()"
   ]
  },
  {
   "cell_type": "code",
   "execution_count": null,
   "id": "5369f5fb",
   "metadata": {},
   "outputs": [],
   "source": []
  }
 ],
 "metadata": {
  "kernelspec": {
   "display_name": "Python 3",
   "language": "python",
   "name": "python3"
  },
  "language_info": {
   "codemirror_mode": {
    "name": "ipython",
    "version": 3
   },
   "file_extension": ".py",
   "mimetype": "text/x-python",
   "name": "python",
   "nbconvert_exporter": "python",
   "pygments_lexer": "ipython3",
   "version": "3.8.8"
  }
 },
 "nbformat": 4,
 "nbformat_minor": 5
}
